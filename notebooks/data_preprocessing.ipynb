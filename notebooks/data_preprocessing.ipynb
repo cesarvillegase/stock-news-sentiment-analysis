{
 "cells": [
  {
   "cell_type": "markdown",
   "metadata": {},
   "source": [
    "---\n",
    "\n",
    "# $$ \\textbf{Data preprocessing} $$\n",
    "\n",
    "---\n",
    "\n",
    "* By: *César Alejandro Villegas Espíndola*."
   ]
  },
  {
   "cell_type": "code",
   "execution_count": 2,
   "metadata": {},
   "outputs": [],
   "source": [
    "import pandas as pd\n",
    "import numpy as np\n",
    "import matplotlib.pyplot as plt\n",
    "\n",
    "import nltk \n",
    "import re\n",
    "from nltk.corpus import stopwords"
   ]
  },
  {
   "cell_type": "code",
   "execution_count": null,
   "metadata": {},
   "outputs": [],
   "source": [
    "nltk.download('stopwords')\n",
    "nltk.download(\"wordnet\")\n",
    "nltk.download(\"omw-1.4\")"
   ]
  },
  {
   "cell_type": "code",
   "execution_count": 4,
   "metadata": {},
   "outputs": [],
   "source": [
    "!pip install datasets > /dev/null 2>&1"
   ]
  },
  {
   "cell_type": "markdown",
   "metadata": {},
   "source": [
    "## Load the dataset"
   ]
  },
  {
   "cell_type": "code",
   "execution_count": 5,
   "metadata": {},
   "outputs": [
    {
     "data": {
      "text/html": [
       "<div>\n",
       "<style scoped>\n",
       "    .dataframe tbody tr th:only-of-type {\n",
       "        vertical-align: middle;\n",
       "    }\n",
       "\n",
       "    .dataframe tbody tr th {\n",
       "        vertical-align: top;\n",
       "    }\n",
       "\n",
       "    .dataframe thead th {\n",
       "        text-align: right;\n",
       "    }\n",
       "</style>\n",
       "<table border=\"1\" class=\"dataframe\">\n",
       "  <thead>\n",
       "    <tr style=\"text-align: right;\">\n",
       "      <th></th>\n",
       "      <th>symbol</th>\n",
       "      <th>publishedDate</th>\n",
       "      <th>title</th>\n",
       "      <th>image</th>\n",
       "      <th>site</th>\n",
       "      <th>text</th>\n",
       "      <th>url</th>\n",
       "      <th>sentiment</th>\n",
       "      <th>sentimentScore</th>\n",
       "    </tr>\n",
       "  </thead>\n",
       "  <tbody>\n",
       "    <tr>\n",
       "      <th>0</th>\n",
       "      <td>HE</td>\n",
       "      <td>2023-10-04T21:54:28.000Z</td>\n",
       "      <td>HE REMINDER: Kessler Topaz Meltzer &amp; Check, LL...</td>\n",
       "      <td>/next-assets/images/schema-image-default.png</td>\n",
       "      <td>benzinga</td>\n",
       "      <td>RADNOR, Pa., Oct. 04, 2023 (GLOBE NEWSWIRE) --...</td>\n",
       "      <td>https://www.benzinga.com/pressreleases/23/10/g...</td>\n",
       "      <td>Negative</td>\n",
       "      <td>-0.6417</td>\n",
       "    </tr>\n",
       "    <tr>\n",
       "      <th>1</th>\n",
       "      <td>CRS</td>\n",
       "      <td>2023-10-04T21:40:00.000Z</td>\n",
       "      <td>Carpenter Technology Announces Conference Call...</td>\n",
       "      <td>https://ml.globenewswire.com/Resource/Download...</td>\n",
       "      <td>globenewswire</td>\n",
       "      <td>PHILADELPHIA, Oct. 04, 2023 (GLOBE NEWSWIRE) -...</td>\n",
       "      <td>https://www.globenewswire.com/news-release/202...</td>\n",
       "      <td>Positive</td>\n",
       "      <td>0.4767</td>\n",
       "    </tr>\n",
       "    <tr>\n",
       "      <th>2</th>\n",
       "      <td>BB</td>\n",
       "      <td>2023-10-04T21:34:09.000Z</td>\n",
       "      <td>What's Going On With BlackBerry Stock After Ho...</td>\n",
       "      <td>https://cdn.benzinga.com/files/images/story/20...</td>\n",
       "      <td>benzinga</td>\n",
       "      <td>BlackBerry Ltd (NYSE: BB) shares are trading h...</td>\n",
       "      <td>https://www.benzinga.com/news/23/10/35098537/w...</td>\n",
       "      <td>Positive</td>\n",
       "      <td>0.9895</td>\n",
       "    </tr>\n",
       "    <tr>\n",
       "      <th>3</th>\n",
       "      <td>TECK</td>\n",
       "      <td>2023-10-04T21:17:00.000Z</td>\n",
       "      <td>Teck to Release Third Quarter 2023 Results on ...</td>\n",
       "      <td>https://ml.globenewswire.com/Resource/Download...</td>\n",
       "      <td>globenewswire</td>\n",
       "      <td>VANCOUVER, British Columbia, Oct. 04, 2023 (GL...</td>\n",
       "      <td>https://www.globenewswire.com/news-release/202...</td>\n",
       "      <td>Positive</td>\n",
       "      <td>0.8300</td>\n",
       "    </tr>\n",
       "    <tr>\n",
       "      <th>4</th>\n",
       "      <td>AGF</td>\n",
       "      <td>2023-10-04T21:13:38.000Z</td>\n",
       "      <td>AGF Reports September 2023 Assets Under Manage...</td>\n",
       "      <td>/next-assets/images/schema-image-default.png</td>\n",
       "      <td>benzinga</td>\n",
       "      <td>TORONTO, Oct. 04, 2023 (GLOBE NEWSWIRE) -- AGF...</td>\n",
       "      <td>https://www.benzinga.com/pressreleases/23/10/g...</td>\n",
       "      <td>Positive</td>\n",
       "      <td>0.9768</td>\n",
       "    </tr>\n",
       "  </tbody>\n",
       "</table>\n",
       "</div>"
      ],
      "text/plain": [
       "  symbol             publishedDate  \\\n",
       "0     HE  2023-10-04T21:54:28.000Z   \n",
       "1    CRS  2023-10-04T21:40:00.000Z   \n",
       "2     BB  2023-10-04T21:34:09.000Z   \n",
       "3   TECK  2023-10-04T21:17:00.000Z   \n",
       "4    AGF  2023-10-04T21:13:38.000Z   \n",
       "\n",
       "                                               title  \\\n",
       "0  HE REMINDER: Kessler Topaz Meltzer & Check, LL...   \n",
       "1  Carpenter Technology Announces Conference Call...   \n",
       "2  What's Going On With BlackBerry Stock After Ho...   \n",
       "3  Teck to Release Third Quarter 2023 Results on ...   \n",
       "4  AGF Reports September 2023 Assets Under Manage...   \n",
       "\n",
       "                                               image           site  \\\n",
       "0       /next-assets/images/schema-image-default.png       benzinga   \n",
       "1  https://ml.globenewswire.com/Resource/Download...  globenewswire   \n",
       "2  https://cdn.benzinga.com/files/images/story/20...       benzinga   \n",
       "3  https://ml.globenewswire.com/Resource/Download...  globenewswire   \n",
       "4       /next-assets/images/schema-image-default.png       benzinga   \n",
       "\n",
       "                                                text  \\\n",
       "0  RADNOR, Pa., Oct. 04, 2023 (GLOBE NEWSWIRE) --...   \n",
       "1  PHILADELPHIA, Oct. 04, 2023 (GLOBE NEWSWIRE) -...   \n",
       "2  BlackBerry Ltd (NYSE: BB) shares are trading h...   \n",
       "3  VANCOUVER, British Columbia, Oct. 04, 2023 (GL...   \n",
       "4  TORONTO, Oct. 04, 2023 (GLOBE NEWSWIRE) -- AGF...   \n",
       "\n",
       "                                                 url sentiment  sentimentScore  \n",
       "0  https://www.benzinga.com/pressreleases/23/10/g...  Negative         -0.6417  \n",
       "1  https://www.globenewswire.com/news-release/202...  Positive          0.4767  \n",
       "2  https://www.benzinga.com/news/23/10/35098537/w...  Positive          0.9895  \n",
       "3  https://www.globenewswire.com/news-release/202...  Positive          0.8300  \n",
       "4  https://www.benzinga.com/pressreleases/23/10/g...  Positive          0.9768  "
      ]
     },
     "execution_count": 5,
     "metadata": {},
     "output_type": "execute_result"
    }
   ],
   "source": [
    "from datasets import load_dataset\n",
    "\n",
    "# Load the dataset\n",
    "dataset = load_dataset(\"NickyNicky/finance-financialmodelingprep-stock-news-sentiments-rss-feed\")\n",
    "\n",
    "# Convert the dataset to a Pandas DataFrame\n",
    "df = pd.DataFrame(dataset['train'])\n",
    "\n",
    "# Display the DataFrame\n",
    "df.head()"
   ]
  },
  {
   "cell_type": "code",
   "execution_count": 9,
   "metadata": {},
   "outputs": [
    {
     "data": {
      "text/html": [
       "<div>\n",
       "<style scoped>\n",
       "    .dataframe tbody tr th:only-of-type {\n",
       "        vertical-align: middle;\n",
       "    }\n",
       "\n",
       "    .dataframe tbody tr th {\n",
       "        vertical-align: top;\n",
       "    }\n",
       "\n",
       "    .dataframe thead th {\n",
       "        text-align: right;\n",
       "    }\n",
       "</style>\n",
       "<table border=\"1\" class=\"dataframe\">\n",
       "  <thead>\n",
       "    <tr style=\"text-align: right;\">\n",
       "      <th></th>\n",
       "      <th>sentiment</th>\n",
       "      <th>text</th>\n",
       "    </tr>\n",
       "  </thead>\n",
       "  <tbody>\n",
       "    <tr>\n",
       "      <th>0</th>\n",
       "      <td>Negative</td>\n",
       "      <td>RADNOR, Pa., Oct. 04, 2023 (GLOBE NEWSWIRE) --...</td>\n",
       "    </tr>\n",
       "    <tr>\n",
       "      <th>1</th>\n",
       "      <td>Positive</td>\n",
       "      <td>PHILADELPHIA, Oct. 04, 2023 (GLOBE NEWSWIRE) -...</td>\n",
       "    </tr>\n",
       "    <tr>\n",
       "      <th>2</th>\n",
       "      <td>Positive</td>\n",
       "      <td>BlackBerry Ltd (NYSE: BB) shares are trading h...</td>\n",
       "    </tr>\n",
       "    <tr>\n",
       "      <th>3</th>\n",
       "      <td>Positive</td>\n",
       "      <td>VANCOUVER, British Columbia, Oct. 04, 2023 (GL...</td>\n",
       "    </tr>\n",
       "    <tr>\n",
       "      <th>4</th>\n",
       "      <td>Positive</td>\n",
       "      <td>TORONTO, Oct. 04, 2023 (GLOBE NEWSWIRE) -- AGF...</td>\n",
       "    </tr>\n",
       "  </tbody>\n",
       "</table>\n",
       "</div>"
      ],
      "text/plain": [
       "  sentiment                                               text\n",
       "0  Negative  RADNOR, Pa., Oct. 04, 2023 (GLOBE NEWSWIRE) --...\n",
       "1  Positive  PHILADELPHIA, Oct. 04, 2023 (GLOBE NEWSWIRE) -...\n",
       "2  Positive  BlackBerry Ltd (NYSE: BB) shares are trading h...\n",
       "3  Positive  VANCOUVER, British Columbia, Oct. 04, 2023 (GL...\n",
       "4  Positive  TORONTO, Oct. 04, 2023 (GLOBE NEWSWIRE) -- AGF..."
      ]
     },
     "execution_count": 9,
     "metadata": {},
     "output_type": "execute_result"
    }
   ],
   "source": [
    "df = df[['sentiment', 'text']].dropna().reset_index(drop=True)\n",
    "df.head()"
   ]
  },
  {
   "cell_type": "code",
   "execution_count": 12,
   "metadata": {},
   "outputs": [
    {
     "name": "stdout",
     "output_type": "stream",
     "text": [
      "Total values in the df: 284000\n",
      "Label counts before balancing:\n",
      " sentiment\n",
      "Positive    125630\n",
      "Negative     14521\n",
      "Neutral       1849\n",
      "Name: count, dtype: int64\n"
     ]
    }
   ],
   "source": [
    "total_elements = df.size\n",
    "print(f\"Total values in the df: {total_elements}\")\n",
    "\n",
    "# Verify the count of every label\n",
    "label_counts = df['sentiment'].value_counts()\n",
    "print(f\"Label counts before balancing:\\n {label_counts}\")"
   ]
  },
  {
   "cell_type": "code",
   "execution_count": 19,
   "metadata": {},
   "outputs": [
    {
     "name": "stdout",
     "output_type": "stream",
     "text": [
      "Desired count per label: 2333\n"
     ]
    }
   ],
   "source": [
    "desired_label_counts = 7000 // len(label_counts)\n",
    "print(f\"Desired count per label: {desired_label_counts}\")"
   ]
  },
  {
   "cell_type": "code",
   "execution_count": 23,
   "metadata": {},
   "outputs": [
    {
     "name": "stdout",
     "output_type": "stream",
     "text": [
      "Label counts after balancing:\n",
      " sentiment\n",
      "Positive    2333\n",
      "Negative    2333\n",
      "Neutral     2333\n",
      "Name: count, dtype: int64\n"
     ]
    }
   ],
   "source": [
    "# Balanced dataframe\n",
    "balanced_df = pd.DataFrame()\n",
    "\n",
    "for label in label_counts.index:\n",
    "    label_df = df[df['sentiment'] == label]\n",
    "\n",
    "    if len(label_df) > desired_label_counts:\n",
    "        label_df = label_df.sample(desired_label_counts, random_state=42)\n",
    "    elif len(label_df) < desired_label_counts:\n",
    "        label_df = label_df.sample(desired_label_counts, replace=True, random_state=42)\n",
    "\n",
    "    balanced_df = pd.concat([balanced_df, label_df])\n",
    "    \n",
    "balanced_label_counts = balanced_df['sentiment'].value_counts()\n",
    "print(\"Label counts after balancing:\\n\", balanced_label_counts)"
   ]
  },
  {
   "cell_type": "code",
   "execution_count": 25,
   "metadata": {},
   "outputs": [
    {
     "name": "stdout",
     "output_type": "stream",
     "text": [
      "Total elements after balancing: 13998\n"
     ]
    },
    {
     "data": {
      "text/html": [
       "<div>\n",
       "<style scoped>\n",
       "    .dataframe tbody tr th:only-of-type {\n",
       "        vertical-align: middle;\n",
       "    }\n",
       "\n",
       "    .dataframe tbody tr th {\n",
       "        vertical-align: top;\n",
       "    }\n",
       "\n",
       "    .dataframe thead th {\n",
       "        text-align: right;\n",
       "    }\n",
       "</style>\n",
       "<table border=\"1\" class=\"dataframe\">\n",
       "  <thead>\n",
       "    <tr style=\"text-align: right;\">\n",
       "      <th></th>\n",
       "      <th>sentiment</th>\n",
       "      <th>text</th>\n",
       "    </tr>\n",
       "  </thead>\n",
       "  <tbody>\n",
       "    <tr>\n",
       "      <th>0</th>\n",
       "      <td>Negative</td>\n",
       "      <td>The value of Bed Bath &amp; Beyond (NASDAQ:BBBY) s...</td>\n",
       "    </tr>\n",
       "    <tr>\n",
       "      <th>1</th>\n",
       "      <td>Positive</td>\n",
       "      <td>Forian Inc. (NASDAQ: FORA) released financial ...</td>\n",
       "    </tr>\n",
       "    <tr>\n",
       "      <th>2</th>\n",
       "      <td>Negative</td>\n",
       "      <td>The CNN Money Fear and Greed index showed some...</td>\n",
       "    </tr>\n",
       "    <tr>\n",
       "      <th>3</th>\n",
       "      <td>Positive</td>\n",
       "      <td>Canada’s Federal Court of Appeal has dismissed...</td>\n",
       "    </tr>\n",
       "    <tr>\n",
       "      <th>4</th>\n",
       "      <td>Negative</td>\n",
       "      <td>Regulators continue to scrutinize Microsoft's ...</td>\n",
       "    </tr>\n",
       "  </tbody>\n",
       "</table>\n",
       "</div>"
      ],
      "text/plain": [
       "  sentiment                                               text\n",
       "0  Negative  The value of Bed Bath & Beyond (NASDAQ:BBBY) s...\n",
       "1  Positive  Forian Inc. (NASDAQ: FORA) released financial ...\n",
       "2  Negative  The CNN Money Fear and Greed index showed some...\n",
       "3  Positive  Canada’s Federal Court of Appeal has dismissed...\n",
       "4  Negative  Regulators continue to scrutinize Microsoft's ..."
      ]
     },
     "execution_count": 25,
     "metadata": {},
     "output_type": "execute_result"
    }
   ],
   "source": [
    "# Total elements of the balanced df\n",
    "print(f\"Total elements after balancing: {balanced_df.size}\")\n",
    "\n",
    "balanced_df = balanced_df.sample(frac=1, random_state=42).reset_index(drop=True)  # Mezclar el DataFrame\n",
    "balanced_df.head()"
   ]
  },
  {
   "cell_type": "markdown",
   "metadata": {},
   "source": [
    "### Preprocessing"
   ]
  },
  {
   "cell_type": "code",
   "execution_count": 50,
   "metadata": {},
   "outputs": [],
   "source": [
    "X = balanced_df['text']\n",
    "y = balanced_df['sentiment']"
   ]
  },
  {
   "cell_type": "code",
   "execution_count": 63,
   "metadata": {},
   "outputs": [],
   "source": [
    "from sklearn.preprocessing import OneHotEncoder\n",
    "onehot_encoder = OneHotEncoder(sparse_output=False)\n",
    "y_one_hot = onehot_encoder.fit_transform(y.values.reshape(-1, 1))"
   ]
  },
  {
   "cell_type": "markdown",
   "metadata": {},
   "source": [
    "#### Lemmatization and Stopwords Removal"
   ]
  },
  {
   "cell_type": "code",
   "execution_count": 64,
   "metadata": {},
   "outputs": [],
   "source": [
    "from nltk.stem import WordNetLemmatizer\n",
    "lemmatizer = WordNetLemmatizer()\n",
    "\n",
    "def preprocess_text(text):\n",
    "    # Remove non-alphabet characters and convert to lowercase\n",
    "    text = re.sub('[^a-zA-Z]', ' ', text).lower().split()\n",
    "    # Remove stopwords and lemmatize\n",
    "    all_stopwords = stopwords.words('english')\n",
    "    all_stopwords.remove('not')\n",
    "    all_stopwords.remove('no')\n",
    "    text = [lemmatizer.lemmatize(word) for word in text if word not in set(all_stopwords)]\n",
    "    return ' '.join(text)\n",
    "\n",
    "corpus = [preprocess_text(sentence) for sentence in X]"
   ]
  },
  {
   "cell_type": "code",
   "execution_count": 65,
   "metadata": {},
   "outputs": [
    {
     "name": "stdout",
     "output_type": "stream",
     "text": [
      "6999\n"
     ]
    },
    {
     "data": {
      "text/plain": [
       "['value bed bath beyond nasdaq bbby share tripled since jan threat bankruptcy created short squeeze bbby stock short interest nearly half float bbby stock jumped jan another overnight opening today per share called meme stock rose sympathy amc entertainment nyse amc jan gamestop nyse gme rose meme investorplace writing bed bath beyon',\n",
       " 'forian inc nasdaq forum released financial result quarter ended september revealing revenue million increase compared million q sequentially second quarter q financial highlight net loss quarter million per share compared million per share prior year adjusted ebitda quarter negative million compared negative million p',\n",
       " 'cnn money fear greed index showed easing fear level among u investor thursday dow jones snapped five day losing streak following credit suisse nyse c announcement loan swiss national bank first republic bank nyse frc also announced deal billion deposit major bank trader also assessed economic report showed u initial jobless claim dropping prior week full story available',\n",
       " 'canada federal court appeal dismissed attempt competition bureau overturn key approval rogers communication inc takeover shaw communication inc court appeal justice david stratas said argument presented bureau meet threshold palpable overring error going core case would required overturn decision competition tribunal approve cdn billion u billion deal',\n",
       " 'regulator continue scrutinize microsoft nasdaq msft proposed billion acquisition activision blizzard nasdaq atvi year deal first announced meanwhile tension continue escalate sony nyse sony microsoft sony expressed fear microsoft potentially sabotaging call duty playstation uk competition market authority activision blizzard chief communication officer lulu cheng meservey made accusati']"
      ]
     },
     "execution_count": 65,
     "metadata": {},
     "output_type": "execute_result"
    }
   ],
   "source": [
    "print(len(corpus))\n",
    "corpus[:5]"
   ]
  },
  {
   "cell_type": "code",
   "execution_count": 66,
   "metadata": {},
   "outputs": [
    {
     "name": "stdout",
     "output_type": "stream",
     "text": [
      "Positive news text (index 0):\n",
      "The value of Bed Bath & Beyond (NASDAQ:BBBY) shares has tripled since Jan. 6. The threat of bankruptcy created a short squeeze in BBBY stock. With short interest at nearly half its float, BBBY stock jumped 68% on Jan. 11 and another 20% overnight, opening today at $4.22 per share. Other so-called “meme stocks” from 2021 rose in sympathy. AMC Entertainment (NYSE:AMC) was up 21% on Jan. 11 and Gamestop (NYSE:GME) rose 7%. What Does This Meme? InvestorPlace has been writing about Bed Bath & Beyon...\n",
      "Label: [1. 0. 0.]\n",
      "\n",
      "Negative news text (index 9):\n",
      "Nokia OyjPörssitiedote29.08.2023 klo 21.00...\n",
      "Label: [0. 1. 0.]\n",
      "\n",
      "Neutral news text (index 1):\n",
      "Forian Inc. (NASDAQ: FORA) released financial results for the quarter ended September 30, 2022, revealing revenue of $7.2 million, a 45% increase compared to $5 million in the Q3 2021 and 10% sequentially over the second quarter of 2022. Q3 2022 Financial Highlights Net loss for the quarter was $5.1 million, or $0.16 per share, compared to $7.0 million, or $0.22 per share, in the prior year. Adjusted EBITDA for the quarter was negative $2.2 million, compared to negative $4.1 million in the p...\n",
      "Label: [0. 0. 1.]\n"
     ]
    }
   ],
   "source": [
    "y_one_hot = np.array(y_one_hot)\n",
    "\n",
    "def find_index_for_label(y_one_hot, label):\n",
    "    for index, y in enumerate(y_one_hot):\n",
    "        if np.array_equal(y, label):\n",
    "            return index\n",
    "    return None\n",
    "\n",
    "# Labels\n",
    "positive_label = [1, 0, 0]\n",
    "negative_label = [0, 1, 0]\n",
    "neutral_label = [0, 0, 1]\n",
    "\n",
    "# Search the index based on the sentiment\n",
    "positive_index = find_index_for_label(y_one_hot, positive_label)\n",
    "negative_index = find_index_for_label(y_one_hot, negative_label)\n",
    "neutral_index = find_index_for_label(y_one_hot, neutral_label)\n",
    "\n",
    "# Show the news and it´s corresponding label\n",
    "if positive_index is not None:\n",
    "    print(f'Positive news text (index {positive_index}):')\n",
    "    print(X[positive_index])\n",
    "    print('Label:', y_one_hot[positive_index])\n",
    "else:\n",
    "    print('No positive news found.')\n",
    "\n",
    "if negative_index is not None:\n",
    "    print(f'\\nNegative news text (index {negative_index}):')\n",
    "    print(X[negative_index])\n",
    "    print('Label:', y_one_hot[negative_index])\n",
    "else:\n",
    "    print('No negative news found.')\n",
    "\n",
    "if neutral_index is not None:\n",
    "    print(f'\\nNeutral news text (index {neutral_index}):')\n",
    "    print(X[neutral_index])\n",
    "    print('Label:', y_one_hot[neutral_index])\n",
    "else:\n",
    "    print('No neutral news found.')"
   ]
  },
  {
   "cell_type": "code",
   "execution_count": 68,
   "metadata": {},
   "outputs": [],
   "source": [
    "positive_sample = X[0]\n",
    "negative_sample = X[9]\n",
    "neutral_sample = X[1]"
   ]
  },
  {
   "cell_type": "code",
   "execution_count": 70,
   "metadata": {},
   "outputs": [],
   "source": [
    "### TF-IDF\n",
    "\n",
    "from sklearn.feature_extraction.text import TfidfVectorizer\n",
    "\n",
    "tfidf = TfidfVectorizer(ngram_range=(1, 2), max_features=5000)\n",
    "X_new = tfidf.fit_transform(corpus)\n",
    "\n",
    "# Guardar el Tfidf Vectorizer\n",
    "import pickle\n",
    "with open('/Users/cesarve/Documents/GitHub/stock-news-sentiment-analysis/model/tfidf_vectorizer.pkl', 'wb') as f:\n",
    "    pickle.dump(tfidf, f)"
   ]
  },
  {
   "cell_type": "code",
   "execution_count": null,
   "metadata": {},
   "outputs": [],
   "source": []
  }
 ],
 "metadata": {
  "kernelspec": {
   "display_name": "Sent_Analysis",
   "language": "python",
   "name": "python3"
  },
  "language_info": {
   "codemirror_mode": {
    "name": "ipython",
    "version": 3
   },
   "file_extension": ".py",
   "mimetype": "text/x-python",
   "name": "python",
   "nbconvert_exporter": "python",
   "pygments_lexer": "ipython3",
   "version": "3.12.3"
  }
 },
 "nbformat": 4,
 "nbformat_minor": 2
}
