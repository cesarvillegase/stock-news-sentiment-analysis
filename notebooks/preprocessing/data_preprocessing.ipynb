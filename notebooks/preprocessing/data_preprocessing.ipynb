{
 "cells": [
  {
   "cell_type": "markdown",
   "metadata": {},
   "source": [
    "---\n",
    "\n",
    "# $$ \\textbf{Data preprocessing} $$\n",
    "\n",
    "---\n",
    "\n",
    "* By: *César Alejandro Villegas Espíndola*."
   ]
  },
  {
   "cell_type": "code",
   "execution_count": 3,
   "metadata": {},
   "outputs": [],
   "source": [
    "import pandas as pd\n",
    "import numpy as np\n",
    "import matplotlib.pyplot as plt\n",
    "\n",
    "import nltk \n",
    "import re\n",
    "from nltk.corpus import stopwords"
   ]
  },
  {
   "cell_type": "code",
   "execution_count": 4,
   "metadata": {},
   "outputs": [
    {
     "name": "stderr",
     "output_type": "stream",
     "text": [
      "[nltk_data] Downloading package stopwords to\n",
      "[nltk_data]     /Users/cesarve/nltk_data...\n",
      "[nltk_data]   Package stopwords is already up-to-date!\n",
      "[nltk_data] Downloading package wordnet to /Users/cesarve/nltk_data...\n",
      "[nltk_data]   Package wordnet is already up-to-date!\n",
      "[nltk_data] Downloading package omw-1.4 to /Users/cesarve/nltk_data...\n",
      "[nltk_data]   Package omw-1.4 is already up-to-date!\n"
     ]
    },
    {
     "data": {
      "text/plain": [
       "True"
      ]
     },
     "execution_count": 4,
     "metadata": {},
     "output_type": "execute_result"
    }
   ],
   "source": [
    "nltk.download('stopwords')\n",
    "nltk.download(\"wordnet\")\n",
    "nltk.download(\"omw-1.4\")"
   ]
  },
  {
   "cell_type": "code",
   "execution_count": 1,
   "metadata": {},
   "outputs": [],
   "source": [
    "!pip install datasets > /dev/null 2>&1"
   ]
  },
  {
   "cell_type": "markdown",
   "metadata": {},
   "source": [
    "## Load the dataset"
   ]
  },
  {
   "cell_type": "code",
   "execution_count": 8,
   "metadata": {},
   "outputs": [
    {
     "data": {
      "text/html": [
       "<div>\n",
       "<style scoped>\n",
       "    .dataframe tbody tr th:only-of-type {\n",
       "        vertical-align: middle;\n",
       "    }\n",
       "\n",
       "    .dataframe tbody tr th {\n",
       "        vertical-align: top;\n",
       "    }\n",
       "\n",
       "    .dataframe thead th {\n",
       "        text-align: right;\n",
       "    }\n",
       "</style>\n",
       "<table border=\"1\" class=\"dataframe\">\n",
       "  <thead>\n",
       "    <tr style=\"text-align: right;\">\n",
       "      <th></th>\n",
       "      <th>symbol</th>\n",
       "      <th>publishedDate</th>\n",
       "      <th>title</th>\n",
       "      <th>image</th>\n",
       "      <th>site</th>\n",
       "      <th>text</th>\n",
       "      <th>url</th>\n",
       "      <th>sentiment</th>\n",
       "      <th>sentimentScore</th>\n",
       "    </tr>\n",
       "  </thead>\n",
       "  <tbody>\n",
       "    <tr>\n",
       "      <th>0</th>\n",
       "      <td>HE</td>\n",
       "      <td>2023-10-04T21:54:28.000Z</td>\n",
       "      <td>HE REMINDER: Kessler Topaz Meltzer &amp; Check, LL...</td>\n",
       "      <td>/next-assets/images/schema-image-default.png</td>\n",
       "      <td>benzinga</td>\n",
       "      <td>RADNOR, Pa., Oct. 04, 2023 (GLOBE NEWSWIRE) --...</td>\n",
       "      <td>https://www.benzinga.com/pressreleases/23/10/g...</td>\n",
       "      <td>Negative</td>\n",
       "      <td>-0.6417</td>\n",
       "    </tr>\n",
       "    <tr>\n",
       "      <th>1</th>\n",
       "      <td>CRS</td>\n",
       "      <td>2023-10-04T21:40:00.000Z</td>\n",
       "      <td>Carpenter Technology Announces Conference Call...</td>\n",
       "      <td>https://ml.globenewswire.com/Resource/Download...</td>\n",
       "      <td>globenewswire</td>\n",
       "      <td>PHILADELPHIA, Oct. 04, 2023 (GLOBE NEWSWIRE) -...</td>\n",
       "      <td>https://www.globenewswire.com/news-release/202...</td>\n",
       "      <td>Positive</td>\n",
       "      <td>0.4767</td>\n",
       "    </tr>\n",
       "    <tr>\n",
       "      <th>2</th>\n",
       "      <td>BB</td>\n",
       "      <td>2023-10-04T21:34:09.000Z</td>\n",
       "      <td>What's Going On With BlackBerry Stock After Ho...</td>\n",
       "      <td>https://cdn.benzinga.com/files/images/story/20...</td>\n",
       "      <td>benzinga</td>\n",
       "      <td>BlackBerry Ltd (NYSE: BB) shares are trading h...</td>\n",
       "      <td>https://www.benzinga.com/news/23/10/35098537/w...</td>\n",
       "      <td>Positive</td>\n",
       "      <td>0.9895</td>\n",
       "    </tr>\n",
       "    <tr>\n",
       "      <th>3</th>\n",
       "      <td>TECK</td>\n",
       "      <td>2023-10-04T21:17:00.000Z</td>\n",
       "      <td>Teck to Release Third Quarter 2023 Results on ...</td>\n",
       "      <td>https://ml.globenewswire.com/Resource/Download...</td>\n",
       "      <td>globenewswire</td>\n",
       "      <td>VANCOUVER, British Columbia, Oct. 04, 2023 (GL...</td>\n",
       "      <td>https://www.globenewswire.com/news-release/202...</td>\n",
       "      <td>Positive</td>\n",
       "      <td>0.8300</td>\n",
       "    </tr>\n",
       "    <tr>\n",
       "      <th>4</th>\n",
       "      <td>AGF</td>\n",
       "      <td>2023-10-04T21:13:38.000Z</td>\n",
       "      <td>AGF Reports September 2023 Assets Under Manage...</td>\n",
       "      <td>/next-assets/images/schema-image-default.png</td>\n",
       "      <td>benzinga</td>\n",
       "      <td>TORONTO, Oct. 04, 2023 (GLOBE NEWSWIRE) -- AGF...</td>\n",
       "      <td>https://www.benzinga.com/pressreleases/23/10/g...</td>\n",
       "      <td>Positive</td>\n",
       "      <td>0.9768</td>\n",
       "    </tr>\n",
       "  </tbody>\n",
       "</table>\n",
       "</div>"
      ],
      "text/plain": [
       "  symbol             publishedDate  \\\n",
       "0     HE  2023-10-04T21:54:28.000Z   \n",
       "1    CRS  2023-10-04T21:40:00.000Z   \n",
       "2     BB  2023-10-04T21:34:09.000Z   \n",
       "3   TECK  2023-10-04T21:17:00.000Z   \n",
       "4    AGF  2023-10-04T21:13:38.000Z   \n",
       "\n",
       "                                               title  \\\n",
       "0  HE REMINDER: Kessler Topaz Meltzer & Check, LL...   \n",
       "1  Carpenter Technology Announces Conference Call...   \n",
       "2  What's Going On With BlackBerry Stock After Ho...   \n",
       "3  Teck to Release Third Quarter 2023 Results on ...   \n",
       "4  AGF Reports September 2023 Assets Under Manage...   \n",
       "\n",
       "                                               image           site  \\\n",
       "0       /next-assets/images/schema-image-default.png       benzinga   \n",
       "1  https://ml.globenewswire.com/Resource/Download...  globenewswire   \n",
       "2  https://cdn.benzinga.com/files/images/story/20...       benzinga   \n",
       "3  https://ml.globenewswire.com/Resource/Download...  globenewswire   \n",
       "4       /next-assets/images/schema-image-default.png       benzinga   \n",
       "\n",
       "                                                text  \\\n",
       "0  RADNOR, Pa., Oct. 04, 2023 (GLOBE NEWSWIRE) --...   \n",
       "1  PHILADELPHIA, Oct. 04, 2023 (GLOBE NEWSWIRE) -...   \n",
       "2  BlackBerry Ltd (NYSE: BB) shares are trading h...   \n",
       "3  VANCOUVER, British Columbia, Oct. 04, 2023 (GL...   \n",
       "4  TORONTO, Oct. 04, 2023 (GLOBE NEWSWIRE) -- AGF...   \n",
       "\n",
       "                                                 url sentiment  sentimentScore  \n",
       "0  https://www.benzinga.com/pressreleases/23/10/g...  Negative         -0.6417  \n",
       "1  https://www.globenewswire.com/news-release/202...  Positive          0.4767  \n",
       "2  https://www.benzinga.com/news/23/10/35098537/w...  Positive          0.9895  \n",
       "3  https://www.globenewswire.com/news-release/202...  Positive          0.8300  \n",
       "4  https://www.benzinga.com/pressreleases/23/10/g...  Positive          0.9768  "
      ]
     },
     "execution_count": 8,
     "metadata": {},
     "output_type": "execute_result"
    }
   ],
   "source": [
    "from datasets import load_dataset\n",
    "\n",
    "# Load the dataset\n",
    "dataset = load_dataset(\"NickyNicky/finance-financialmodelingprep-stock-news-sentiments-rss-feed\")\n",
    "\n",
    "# Convert the dataset to a Pandas DataFrame\n",
    "df = pd.DataFrame(dataset['train'])\n",
    "\n",
    "# Display the DataFrame\n",
    "df.head()"
   ]
  },
  {
   "cell_type": "code",
   "execution_count": 9,
   "metadata": {},
   "outputs": [
    {
     "data": {
      "text/html": [
       "<div>\n",
       "<style scoped>\n",
       "    .dataframe tbody tr th:only-of-type {\n",
       "        vertical-align: middle;\n",
       "    }\n",
       "\n",
       "    .dataframe tbody tr th {\n",
       "        vertical-align: top;\n",
       "    }\n",
       "\n",
       "    .dataframe thead th {\n",
       "        text-align: right;\n",
       "    }\n",
       "</style>\n",
       "<table border=\"1\" class=\"dataframe\">\n",
       "  <thead>\n",
       "    <tr style=\"text-align: right;\">\n",
       "      <th></th>\n",
       "      <th>sentiment</th>\n",
       "      <th>text</th>\n",
       "    </tr>\n",
       "  </thead>\n",
       "  <tbody>\n",
       "    <tr>\n",
       "      <th>0</th>\n",
       "      <td>Negative</td>\n",
       "      <td>RADNOR, Pa., Oct. 04, 2023 (GLOBE NEWSWIRE) --...</td>\n",
       "    </tr>\n",
       "    <tr>\n",
       "      <th>1</th>\n",
       "      <td>Positive</td>\n",
       "      <td>PHILADELPHIA, Oct. 04, 2023 (GLOBE NEWSWIRE) -...</td>\n",
       "    </tr>\n",
       "    <tr>\n",
       "      <th>2</th>\n",
       "      <td>Positive</td>\n",
       "      <td>BlackBerry Ltd (NYSE: BB) shares are trading h...</td>\n",
       "    </tr>\n",
       "    <tr>\n",
       "      <th>3</th>\n",
       "      <td>Positive</td>\n",
       "      <td>VANCOUVER, British Columbia, Oct. 04, 2023 (GL...</td>\n",
       "    </tr>\n",
       "    <tr>\n",
       "      <th>4</th>\n",
       "      <td>Positive</td>\n",
       "      <td>TORONTO, Oct. 04, 2023 (GLOBE NEWSWIRE) -- AGF...</td>\n",
       "    </tr>\n",
       "  </tbody>\n",
       "</table>\n",
       "</div>"
      ],
      "text/plain": [
       "  sentiment                                               text\n",
       "0  Negative  RADNOR, Pa., Oct. 04, 2023 (GLOBE NEWSWIRE) --...\n",
       "1  Positive  PHILADELPHIA, Oct. 04, 2023 (GLOBE NEWSWIRE) -...\n",
       "2  Positive  BlackBerry Ltd (NYSE: BB) shares are trading h...\n",
       "3  Positive  VANCOUVER, British Columbia, Oct. 04, 2023 (GL...\n",
       "4  Positive  TORONTO, Oct. 04, 2023 (GLOBE NEWSWIRE) -- AGF..."
      ]
     },
     "execution_count": 9,
     "metadata": {},
     "output_type": "execute_result"
    }
   ],
   "source": [
    "df = df[['sentiment', 'text']]\n",
    "df.head()"
   ]
  },
  {
   "cell_type": "markdown",
   "metadata": {},
   "source": [
    "Label counts before balancing"
   ]
  },
  {
   "cell_type": "code",
   "execution_count": 37,
   "metadata": {},
   "outputs": [
    {
     "name": "stdout",
     "output_type": "stream",
     "text": [
      "Total values in the df: 284000\n",
      "Label counts before balancing:\n",
      " sentiment\n",
      "Positive    125630\n",
      "Negative     14521\n",
      "Neutral       1849\n",
      "Name: count, dtype: int64\n"
     ]
    }
   ],
   "source": [
    "total_elements = df.size\n",
    "print(f\"Total values in the df: {total_elements}\")\n",
    "\n",
    "# Verify the count of every label\n",
    "label_counts = df['sentiment'].value_counts()\n",
    "print(f\"Label counts before balancing:\\n {label_counts}\")"
   ]
  },
  {
   "cell_type": "markdown",
   "metadata": {},
   "source": [
    "### Preprocessing"
   ]
  },
  {
   "cell_type": "code",
   "execution_count": 44,
   "metadata": {},
   "outputs": [],
   "source": [
    "X = balanced_df['text']\n",
    "y = balanced_df['sentiment']"
   ]
  },
  {
   "cell_type": "code",
   "execution_count": 50,
   "metadata": {},
   "outputs": [],
   "source": [
    "from sklearn.preprocessing import OneHotEncoder\n",
    "onehot_encoder = OneHotEncoder(sparse_output=False)\n",
    "y_one_hot = onehot_encoder.fit_transform(y.values.reshape(-1, 1))"
   ]
  },
  {
   "cell_type": "markdown",
   "metadata": {},
   "source": [
    "#### Lemmatization and Stopwords Removal"
   ]
  },
  {
   "cell_type": "code",
   "execution_count": 51,
   "metadata": {},
   "outputs": [],
   "source": [
    "from nltk.stem import WordNetLemmatizer\n",
    "lemmatizer = WordNetLemmatizer()\n",
    "\n",
    "def preprocess_text(text):\n",
    "    # Remove non-alphabet characters and convert to lowercase\n",
    "    text = re.sub('[^a-zA-Z]', ' ', text).lower().split()\n",
    "    # Remove stopwords and lemmatize\n",
    "    all_stopwords = stopwords.words('english')\n",
    "    all_stopwords.remove('not')\n",
    "    all_stopwords.remove('no')\n",
    "    text = [lemmatizer.lemmatize(word) for word in text if word not in set(all_stopwords)]\n",
    "    return ' '.join(text)\n",
    "\n",
    "corpus = [preprocess_text(sentence) for sentence in X]"
   ]
  },
  {
   "cell_type": "code",
   "execution_count": 52,
   "metadata": {},
   "outputs": [
    {
     "name": "stdout",
     "output_type": "stream",
     "text": [
      "4998\n"
     ]
    },
    {
     "data": {
      "text/plain": [
       "['somerset n j july globe newswire carecloud inc nasdaq ccld ccldp ccldo leader healthcare technology solution medical practice health system nationwide today announced recognized healthcare technology report list power healthcare technology company addition company recognition carecloud president chief executive officer hadi chaudhry selected one top healthcare technology ceo',\n",
       " 'oil price rose tuesday amid tight supply speculation oil could economy west texas intermediate cl f settled per barrel tuesday brent also closed fractionally higher per barrel oil price steadily climbed since late june amid output cut imposed opec unilateral production curb saudi arabia export restriction russia',\n",
       " 'wednesday traveler heard notice air mission notam',\n",
       " 'recent activity long dormant bitcoin crypto btc wallet caught attention crypto community sparking speculation motivation behind move wallet owned called whale holder large amount cryptocurrency whose action significantly impact token price one whale whose wallet last active moved bitcoin worth million weekend bitcoin going one wallet bitcoin wallet',\n",
       " 'udvide og videreudvikle vores europ iske transportnetv rk har dfds indg et en aftale om k b af af aktiekapitalen estron group en hollandsk udbyder af vejtransport og lagerl sninger med base rotterdam holland']"
      ]
     },
     "execution_count": 52,
     "metadata": {},
     "output_type": "execute_result"
    }
   ],
   "source": [
    "print(len(corpus))\n",
    "corpus[:5]"
   ]
  },
  {
   "cell_type": "code",
   "execution_count": 57,
   "metadata": {},
   "outputs": [
    {
     "name": "stdout",
     "output_type": "stream",
     "text": [
      "Positive news text (index 1):\n",
      "Oil prices rose on Tuesday amid tight supplies and speculation over what $100 oil could do to the economy. West Texas Intermediate (CL=F) settled at $90.39 per barrel on Tuesday while Brent also closed fractionally higher at $93.96 per barrel. Oil prices have steadily climbed since late June amid output cuts imposed by OPEC+ and unilateral production curbs from Saudi Arabia and export restrictions from Russia.\n",
      "Label: [1. 0. 0.]\n",
      "\n",
      "Negative news text (index 3):\n",
      "Recent activity in long-dormant Bitcoin (CRYPTO: BTC) wallets has caught the attention of the crypto community, sparking speculation about the motivations behind these moves. These wallets are owned by so-called \"whales,\" or holders of large amounts of cryptocurrency whose actions can significantly impact token prices. One whale, whose wallet was last active in 2012, moved over 400 Bitcoin worth $11 million over the weekend. Some 360 Bitcoin going to one wallet and 40 Bitcoin to other wallets, a...\n",
      "Label: [0. 1. 0.]\n",
      "\n",
      "Neutral news text (index 0):\n",
      "SOMERSET, N.J., July 06, 2023 (GLOBE NEWSWIRE) -- CareCloud, Inc. (Nasdaq: CCLD, CCLDP, CCLDO), a leader in healthcare technology solutions for medical practices and health systems nationwide, today announced it has been recognized in Healthcare Technology Report’s list of Power 500 Healthcare Technology Companies of 2023. In addition to the company's recognition, CareCloud's president and chief executive officer, Hadi Chaudhry, has been selected as one of the Top 50 Healthcare Technology CEOs...\n",
      "Label: [0. 0. 1.]\n"
     ]
    }
   ],
   "source": [
    "y_one_hot = np.array(y_one_hot)\n",
    "\n",
    "def find_index_for_label(y_one_hot, label):\n",
    "    for index, y in enumerate(y_one_hot):\n",
    "        if np.array_equal(y, label):\n",
    "            return index\n",
    "    return None\n",
    "\n",
    "# Labels\n",
    "positive_label = [1, 0, 0]\n",
    "negative_label = [0, 1, 0]\n",
    "neutral_label = [0, 0, 1]\n",
    "\n",
    "# Search the index based on the sentiment\n",
    "positive_index = find_index_for_label(y_one_hot, positive_label)\n",
    "negative_index = find_index_for_label(y_one_hot, negative_label)\n",
    "neutral_index = find_index_for_label(y_one_hot, neutral_label)\n",
    "\n",
    "# Show the news and it´s corresponding label\n",
    "if positive_index is not None:\n",
    "    print(f'Positive news text (index {positive_index}):')\n",
    "    print(X[positive_index])\n",
    "    print('Label:', y_one_hot[positive_index])\n",
    "else:\n",
    "    print('No positive news found.')\n",
    "\n",
    "if negative_index is not None:\n",
    "    print(f'\\nNegative news text (index {negative_index}):')\n",
    "    print(X[negative_index])\n",
    "    print('Label:', y_one_hot[negative_index])\n",
    "else:\n",
    "    print('No negative news found.')\n",
    "\n",
    "if neutral_index is not None:\n",
    "    print(f'\\nNeutral news text (index {neutral_index}):')\n",
    "    print(X[neutral_index])\n",
    "    print('Label:', y_one_hot[neutral_index])\n",
    "else:\n",
    "    print('No neutral news found.')"
   ]
  },
  {
   "cell_type": "code",
   "execution_count": 54,
   "metadata": {},
   "outputs": [],
   "source": [
    "positive_sample = X[positive_index]\n",
    "negative_sample = X[negative_index]\n",
    "neutral_sample = X[neutral_index]"
   ]
  },
  {
   "cell_type": "code",
   "execution_count": 55,
   "metadata": {},
   "outputs": [],
   "source": [
    "### TF-IDF\n",
    "\n",
    "from sklearn.feature_extraction.text import TfidfVectorizer\n",
    "\n",
    "tfidf = TfidfVectorizer(ngram_range=(1, 2), max_features=5000)\n",
    "X_new = tfidf.fit_transform(corpus)\n",
    "\n",
    "# Guardar el Tfidf Vectorizer\n",
    "import pickle\n",
    "with open('/Users/cesarve/Documents/GitHub/stock-news-sentiment-analysis/model/tfidf_vectorizer.pkl', 'wb') as f:\n",
    "    pickle.dump(tfidf, f)"
   ]
  },
  {
   "cell_type": "code",
   "execution_count": 56,
   "metadata": {},
   "outputs": [],
   "source": [
    "# Save the y_one_hot array to a file\n",
    "np.save('/Users/cesarve/Documents/GitHub/stock-news-sentiment-analysis/data/processed/y.npy', y_one_hot)"
   ]
  }
 ],
 "metadata": {
  "kernelspec": {
   "display_name": "Sent_Analysis",
   "language": "python",
   "name": "python3"
  },
  "language_info": {
   "codemirror_mode": {
    "name": "ipython",
    "version": 3
   },
   "file_extension": ".py",
   "mimetype": "text/x-python",
   "name": "python",
   "nbconvert_exporter": "python",
   "pygments_lexer": "ipython3",
   "version": "3.12.3"
  }
 },
 "nbformat": 4,
 "nbformat_minor": 2
}
